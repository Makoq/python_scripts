{
 "cells": [
  {
   "cell_type": "code",
   "execution_count": 2,
   "metadata": {},
   "outputs": [
    {
     "name": "stdout",
     "output_type": "stream",
     "text": [
      "模型斜率 54.66650868076128\n",
      "模型截距 [70.54511908]\n",
      "当假设浓度为 0.8mg/l 时，利用模型预测通量为： 114.27832602648522 t\n"
     ]
    },
    {
     "data": {
      "image/png": "[encoded data removed]",
      "text/plain": [
       "<Figure size 432x288 with 1 Axes>"
      ]
     },
     "metadata": {},
     "output_type": "display_data"
    }
   ],
   "source": [
    "# regression analysis test case\n",
    "# author lan\n",
    "# 19.11.14\n",
    "\n",
    "import numpy as np\n",
    "from pandas  import read_csv\n",
    "from matplotlib import pyplot as plt\n",
    "# from sklearn.linear_model import LinearRegression\n",
    "from sklearn import linear_model\n",
    "# from UdxDataset import *\n",
    "import pandas as pd\n",
    "import requests\n",
    "\n",
    "#浓度数据\n",
    "nd_data=[1.040000, 0.940000, 0.530000, 1.930000, 0.430000, 0.330000, 0.690000, 0.140000]\n",
    "#通量数据\n",
    "tl_data=[151.0, 87.000000, 148.000000, 159.000000, 111.000000, 47.000000, 147.000000, 44.000000]\n",
    "\n",
    "#数组转为矩阵，作为模型训练的输入数据\n",
    "x = pd.DataFrame(nd_data)\n",
    "y = pd.DataFrame(tl_data)\n",
    "# 调用线性回归函数\n",
    "clf = linear_model.LinearRegression()\n",
    "\n",
    "# print(x,y)\n",
    "# 开始线性回归计算\n",
    "clf.fit(x,y)\n",
    "# 得到斜率\n",
    "print(\"模型斜率\",clf.coef_[0][0])\n",
    "# 得到截距\n",
    "print(\"模型截距\",clf.intercept_)\n",
    "\n",
    "#利用模型，输入浓度为0.8预测通量\n",
    "predict_nd=[[0.8]]\n",
    "predict_tl=clf.predict(predict_nd)\n",
    "print(\"当假设浓度为 0.8mg/l 时，利用模型预测通量为：\",predict_tl[0][0],\"t\")\n",
    "\n",
    "#绘制散点图\n",
    "plt.scatter(nd_data[:8],tl_data[:8],label='观测值')\n",
    "plt.scatter(predict_nd[0],predict_tl[0],label='预测值')\n",
    "#绘制线\n",
    "plt.plot(x, x*clf.coef_[0][0]+clf.intercept_, color='r',label='模拟曲线')\n",
    "plt.axis([0,2,30,280])\n",
    "plt.legend(loc = 'upper left')#显示图例，设置图例的位置\n",
    "plt.title(\"通量与浓度的回归关系\", fontsize=20)\n",
    "plt.grid(b=True)#加网格\n",
    "plt.show()\n"
   ]
  }
 ],
 "metadata": {
  "kernelspec": {
   "display_name": "Python 3",
   "language": "python",
   "name": "python3"
  },
  "language_info": {
   "codemirror_mode": {
    "name": "ipython",
    "version": 3
   },
   "file_extension": ".py",
   "mimetype": "text/x-python",
   "name": "python",
   "nbconvert_exporter": "python",
   "pygments_lexer": "ipython3",
   "version": "3.6.5"
  }
 },
 "nbformat": 4,
 "nbformat_minor": 2
}
